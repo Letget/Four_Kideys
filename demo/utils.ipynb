{
 "cells": [
  {
   "cell_type": "markdown",
   "id": "9ca18f4b",
   "metadata": {},
   "source": [
    "# 转存cos容器"
   ]
  },
  {
   "cell_type": "code",
   "execution_count": 5,
   "id": "a6b0f1fd",
   "metadata": {},
   "outputs": [],
   "source": [
    "from ti import session\n",
    "ti_session = session.Session()\n",
    "def redictstore(path=\"./100003_nii\", bucket = \"lyb-1257812067\", key_prefix = \"data/bisai\"):\n",
    "    \"\"\"\n",
    "    path：结果文件路径。\n",
    "    bucket：指定存储桶。注意：请指定用户对应地域下的个人 COS 存储桶，使用示例中的存储桶会导致报错。\n",
    "    key_prefix：存储桶下 COS 路径地址。\n",
    "    \"\"\"\n",
    "    inputs = ti_session.upload_data(path=path, bucket=bucket, key_prefix=key_prefix)\n",
    "\n",
    "# 使用示例\n",
    "# redictstore(path='./utils1.ipynb', key_prefix='data/files')"
   ]
  },
  {
   "cell_type": "markdown",
   "id": "f0f135ee",
   "metadata": {},
   "source": [
    "# 复制和移动文件到指定文件夹"
   ]
  },
  {
   "cell_type": "code",
   "execution_count": 6,
   "id": "7ac35ce4",
   "metadata": {},
   "outputs": [],
   "source": [
    "import os,shutil\n",
    "import time\n",
    "\n",
    "def mymovefile(srcfile,dstfile,pbar=None):\n",
    "    \"\"\"\n",
    "    srcfile：原文件\n",
    "    dstfile:目标文件\n",
    "    pbar:tqdm对象\n",
    "    \"\"\"\n",
    "    if not os.path.isfile(srcfile):\n",
    "        print (\"%s not exist!\"%(srcfile))\n",
    "    elif os.path.exists(dstfile):\n",
    "        if pabr is not None:\n",
    "            pbar.set_description('{} has existed!'.format(dstfile))\n",
    "            time.sleep(0.1)\n",
    "        else:\n",
    "            print('{} has existed!'.format(dstfile))\n",
    "    else:\n",
    "        fpath,fname=os.path.split(dstfile)    #分离文件名和路径\n",
    "        if not os.path.exists(fpath):\n",
    "            os.makedirs(fpath)                #创建路径\n",
    "        shutil.move(srcfile,dstfile)          #移动文件\n",
    "\n",
    "def mycopyfile(srcfile,dstfile, pbar=None):\n",
    "    \"\"\"\n",
    "    srcfile：原文件\n",
    "    dstfile:目标文件\n",
    "    pbar:tqdm对象\n",
    "    \"\"\"\n",
    "    if not os.path.isfile(srcfile):\n",
    "        print (\"%s not exist!\"%(srcfile))\n",
    "    elif os.path.exists(dstfile):\n",
    "        if pabr is not None:\n",
    "            pbar.set_description('{} has existed!'.format(dstfile))\n",
    "            time.sleep(0.1)\n",
    "        else:\n",
    "            print('{} has existed!'.format(dstfile))\n",
    "    else:\n",
    "        fpath,fname=os.path.split(dstfile)    #分离文件名和路径\n",
    "#         print(fpath, fname)\n",
    "        if not os.path.exists(fpath):\n",
    "            os.makedirs(fpath)                #创建路径\n",
    "#             print('ok???')\n",
    "        shutil.copyfile(srcfile,dstfile)      #复制文件\n",
    "    \n",
    "    \n",
    "# 使用示例\n",
    "# with tqdm(total = len([*zip(complete_maskfiles, mv_maskfiles)]), desc='process...', unit='img') as pbar:\n",
    "#     for (complete_maskfile, mv_maskfile) in zip(complete_maskfiles, mv_maskfiles):\n",
    "#         mycopyfile(complete_maskfile, mv_maskfile, pbar)\n",
    "#         pbar.update(1)\n",
    "#         pbar.set_postfix(**{'processing file': complete_maskfile+'==>'+mv_maskfile})\n",
    "        \n",
    "#     print('done!')"
   ]
  },
  {
   "cell_type": "markdown",
   "id": "1db302a4",
   "metadata": {},
   "source": [
    "# 切片变3D"
   ]
  },
  {
   "cell_type": "code",
   "execution_count": 25,
   "id": "f4a93467",
   "metadata": {},
   "outputs": [],
   "source": [
    "def genprocess(path, destpath, suffix='.nii.gz'):\n",
    "    \"\"\"\n",
    "    path: 类似于./taop-2021/100003/0001/0001_Flair，其目录下下为切片\n",
    "    destpath: 存放根目录.'./100003'\n",
    "    suffix:3D文件后缀\n",
    "    return 返回组合的3D图像和对应路径文件名\n",
    "    \"\"\"\n",
    "    if not os.path.exists(destpath):\n",
    "        os.mkdir(destpath)\n",
    "    \n",
    "     # 获取该文件夹下所有序列id\n",
    "    serid = sitk.ImageSeriesReader.GetGDCMSeriesIDs(path)\n",
    "    nb_series = len(serid)\n",
    "    \n",
    "    if nb_series == 1:\n",
    "        # 当前序列仅一个序列id时\n",
    "        series_file_names = sitk.ImageSeriesReader.GetGDCMSeriesFileNames(path, serid[0])\n",
    "#         print(series_file_names) # => ('./taop-2021/100003/0001/0001_Flair/0.dcm', ...)\n",
    "        ser_rder = sitk.ImageSeriesReader()\n",
    "        # 加载公开信息\n",
    "        ser_rder.MetaDataDictionaryArrayUpdateOn()\n",
    "        # 加载私有信息\n",
    "        ser_rder.LoadPrivateTagsOn()\n",
    "        ser_rder.SetFileNames(series_file_names)\n",
    "        # 读取执行\n",
    "        image3D = ser_rder.Execute()\n",
    "        \n",
    "        # print(serid, filename) => (0001, 0001_Flair)\n",
    "        sid, filename = path.split('/')[-2:]\n",
    "        # ./100003/0001\n",
    "        destpathsid = destpath.rstrip('/')+'/'+sid\n",
    "        Path(destpathsid).mkdir(parents=True, exist_ok=True)\n",
    "        # ./100003/0001/0001_Flair.nii.gz\n",
    "        destfile = destpathsid+'/'+filename+suffix\n",
    "        sitk.WriteImage(image3D, destfile)\n",
    "\n",
    "        # print(image3D.GetSize()) # (223, 270, 20)\n",
    "\n",
    "    else:\n",
    "        # 存储当前文件夹下所有序列id的3D图和路径（如果有多个）\n",
    "        image3D = []\n",
    "        destfile = []\n",
    "\n",
    "        for i in range(nb_series):\n",
    "\n",
    "            series_file_names = sitk.ImageSeriesReader.GetGDCMSeriesFileNames(path, serid[i])\n",
    "            ser_rder = sitk.ImageSeriesReader()\n",
    "#           加载公开信息\n",
    "            ser_rder.MetaDataDictionaryArrayUpdateOn()\n",
    "#           加载私有信息\n",
    "            ser_rder.LoadPrivateTagsOn()\n",
    "            ser_rder.SetFileNames(series_file_names)\n",
    "#           读取执行\n",
    "            img3d = ser_rder.Execute()\n",
    "            image3D.append(img3d)\n",
    "\n",
    "            sid, filename = path.split('/')[-2:]\n",
    "            print(sid, filename)\n",
    "            destpathsid = destpath+'/'+sid\n",
    "            Path(destpathsid).mkdir(parents=True, exist_ok=True)\n",
    "\n",
    "            print(destpathsid)\n",
    "            destfilei = destpath+'/'+filename+i+suffix\n",
    "            sitk.WriteImage(image3D, destfilei)\n",
    "            destfile.append(destfilei)\n",
    "\n",
    "\n",
    "    return image3D, destfile\n",
    "\n",
    "\n",
    "# 使用示例\n",
    "# from tqdm import tqdm\n",
    "# from pathlib import Path\n",
    "# import os\n",
    "# def generate3D(data_path, destpath):\n",
    "    \n",
    "#     if not os.path.exists(destpath):\n",
    "#         os.mkdir(destpath)\n",
    "#     # 存储全部路径下的3D图像\n",
    "#     all_3D = []\n",
    "#     with tqdm(total=len(data_path), desc=f'process...', unit='num') as pbar:\n",
    "#         for path in data_path:\n",
    "            \n",
    "#             image3D, destfile = genprocess(path, destpath)\n",
    "#             all_3D.append((image3D, destfile))   \n",
    "#             # print(image3D.GetSize())\n",
    "#             pbar.set_postfix(**{'name of this process': path})\n",
    "#             pbar.update(1)\n",
    "            \n",
    "#     return all_3D\n",
    "\n",
    "\n",
    "# all_3D = generate3D(data_path=data_path, destpath='./100003_nii')\n",
    "# # 963\n",
    "# print(len(all_3D), all_3D[:10]) # img.shape =>(223, 270, 20) (W, H, S)==(X, Y, Z)"
   ]
  },
  {
   "cell_type": "markdown",
   "id": "7e4acf6b",
   "metadata": {},
   "source": [
    "# 获取每一个id后的三种模态，保存为单独的列表data_path\n",
    "# 记录重复次数\n"
   ]
  },
  {
   "cell_type": "code",
   "execution_count": 8,
   "id": "b1737674",
   "metadata": {},
   "outputs": [],
   "source": [
    "def modal_and_repnum(id_series):\n",
    "    \"\"\"\n",
    "    id_series:原始csv中的id_series列，其重复次数对应于每个模态文件（夹）的不同区域数\n",
    "    return： data_path 不重复的id序列对应的模态路径， rep_number：每个模态重复次数\n",
    "    \"\"\"\n",
    "    data_path = []\n",
    "    rep_number = []\n",
    "    count = 0\n",
    "\n",
    "    last_path = '/'\n",
    "\n",
    "    # 重复的文件count+1， 不重复则更改后缀并加入data_path\n",
    "    for path in id_series:\n",
    "        if path == last_path:\n",
    "            count += 1\n",
    "            continue\n",
    "        else:\n",
    "            if count != 0:\n",
    "                rep_number.append(count)\n",
    "            count = 0\n",
    "            id_number, model = path.split('_')\n",
    "            if model == 't1ce':\n",
    "                model = 'CET1'\n",
    "            elif model == 't2':\n",
    "                model = 'T2'\n",
    "            else:\n",
    "                model = 'Flair'\n",
    "            id_path = os.path.join(csv_root, id_number, id_number+'_'+model)\n",
    "            data_path.append(id_path)\n",
    "            last_path = path\n",
    "            count += 1\n",
    "    rep_number.append(count)\n",
    "    return data_path, rep_number\n",
    "\n",
    "# 使用示例\n"
   ]
  },
  {
   "cell_type": "markdown",
   "id": "fa38db82",
   "metadata": {},
   "source": [
    "# 展示某个切片或者3d影像的基本信息"
   ]
  },
  {
   "cell_type": "code",
   "execution_count": 10,
   "id": "96e2332a",
   "metadata": {},
   "outputs": [],
   "source": [
    "def imgred(filename=\"./taop-2021/100003/0001/0001_Flair/0.dcm\", idx = None):\n",
    "    \"\"\"\n",
    "    filename: 图像文件\n",
    "    idx: 如果指定，则展示给定切片的信息\n",
    "    \"\"\"\n",
    "    import matplotlib.pyplot as plt\n",
    "    import numpy as np\n",
    "    \n",
    "    file = sitk.ReadImage(filename)\n",
    "    print(file.GetSize())\n",
    "    print(file.GetOrigin())\n",
    "    print(file.GetSpacing())\n",
    "    print(file.GetDirection())\n",
    "    print(file.GetMetaDataKeys())\n",
    "    for key in file.GetMetaDataKeys():\n",
    "        print(key, ' : ', file.GetMetaData(key))\n",
    "        \n",
    "    pixel_array = sitk.GetArrayFromImage(file)\n",
    "    if idx == None:\n",
    "        idx = 0\n",
    "    print(pixel_array.shape, '\\n', pixel_array[idx, 100:110, 100:110])\n",
    "    plt.figure(figsize=(9,9))\n",
    "    plt.imshow(pixel_array[idx], cmap='gray')\n",
    "    plt.axis('on') # 关掉坐标轴为 off\n",
    "    plt.title('image') # 图像题目\n",
    "    plt.show()\n",
    "    \n",
    "# 使用示例\n",
    "# # ./taop-2021/100003/0001/mask/2.nii.gz\n",
    "# complete_maskfiles = []\n",
    "# mv_maskfiles = []\n",
    "# for i, maskfile in enumerate(mask_files):\n",
    "#     complete_maskfiles.append(csv_root.rstrip('/')+maskfile)\n",
    "#     mv_maskfiles.append('./100003_nii'+maskfile)\n",
    "#     if i == 0:\n",
    "#         mkfl = csv_root.rstrip('/')+maskfile\n",
    "#         imgred(mkfl, idx=13)\n",
    "    \n",
    "# assert len(complete_maskfiles) == len(mask_files)\n",
    "# print(complete_maskfiles[:10], mv_maskfiles[:10])"
   ]
  },
  {
   "cell_type": "markdown",
   "id": "f679c394",
   "metadata": {},
   "source": [
    "# 存储和读取二进制文件"
   ]
  },
  {
   "cell_type": "code",
   "execution_count": null,
   "id": "2953018d",
   "metadata": {},
   "outputs": [],
   "source": [
    "def binarystore(filename='bi.pkl', content=None, mode='wb'):\n",
    "    \n",
    "    import pickle\n",
    "    # 创建一个二进制文件\n",
    "    pick_file = open(filename, mode)\n",
    "\n",
    "    # 使用pickle的函数dump装入文件\n",
    "    pickle.dump(content, pick_file)\n",
    "\n",
    "    # 关闭打开的文件完成写入\n",
    "    pick_file.close()\n",
    "\n",
    "\n",
    "def binaryread(filename='bi.pkl', mode='rb')\n",
    "    pickfile = open(filename, model)\n",
    "\n",
    "    # 读取文件内容到列表，怎么写入的怎么读取\n",
    "    results = pickle.load(pickfile)\n",
    "    return results\n",
    "    \n",
    "# 使用示例\n",
    "# \"\"\"\n",
    "# 序列id_series, mask 文件列表和病灶id 以及对应的病灶类别(原csv内容对应列)\n",
    "# id_series\n",
    "# mask_files\n",
    "# lesion_id\n",
    "# class_id \n",
    "\n",
    "# data_path 中包含每一个病人的三种模态路径\n",
    "# rep_number 中包含每一个模态重复的次数，与data_path一一对应，预示着该模态中有几个病灶区域\n",
    "\n",
    "# complete_maskfiles：完整的mask路径列表\n",
    "# mv_maskfiles：完整的移动后mask路径列表\n",
    "\n",
    "# all_3D：生成的全部3D影像列表，格式=》[(image3D对象,对应的路径), (), (),...]\n",
    "\n",
    "# 注意，上述路径为在虚拟环境中的路径，具体真实路径需要自己分析生成！\n",
    "# \"\"\"\n",
    "# list_combine= [id_series, mask_files, lesion_id, class_id,\n",
    "#               data_path, rep_number,\n",
    "#               complete_maskfiles, mv_maskfiles,\n",
    "#               all_3D\n",
    "# ]\n",
    "\n",
    "# filename = 'list_combine.pkl'\n",
    "# binarystore(filename=filename, content=list_combine)\n",
    "# binaryread(filename)"
   ]
  },
  {
   "cell_type": "markdown",
   "id": "b611766e",
   "metadata": {},
   "source": [
    "# 将列表按照数字排序"
   ]
  },
  {
   "cell_type": "code",
   "execution_count": 45,
   "id": "c198facf",
   "metadata": {},
   "outputs": [
    {
     "name": "stdout",
     "output_type": "stream",
     "text": [
      "['./taop-2021/100003/0001/mask', './taop-2021/100003/0001/0001_Flair', './taop-2021/100003/0001/0001_T2', './taop-2021/100003/0001/0001_CET1']\n"
     ]
    }
   ],
   "source": [
    "def list_sort_nicely(l):\n",
    "    \"\"\" Sort the given list in the way that humans expect.\n",
    "    \"\"\"\n",
    "    def tryint(s):\n",
    "        try:\n",
    "            return int(s)\n",
    "        except:\n",
    "            return s\n",
    "    def alphanum_key(s):\n",
    "        import re \n",
    "        \"\"\"\n",
    "        s:列表的每一项\n",
    "        按照数字顺序排序\n",
    "        \"\"\"\n",
    "#         print(s)\n",
    "        return [tryint(re.findall('[0-9]+', s.split('/')[-1])[0])]\n",
    "    l.sort(key=alphanum_key)\n",
    "    return l\n",
    "\n",
    "\n",
    "# 使用示例\n",
    "# glob 在windows中按序，linux中乱序\n",
    "from glob import glob\n",
    "csv_root = './taop-2021/100003/'\n",
    "\n",
    "# print(list_sort_nicely(glob(csv_root+'0001/'+'0001_Flair/*')))"
   ]
  },
  {
   "cell_type": "code",
   "execution_count": null,
   "id": "a9fd3918",
   "metadata": {},
   "outputs": [],
   "source": []
  },
  {
   "cell_type": "code",
   "execution_count": 19,
   "id": "2871a895",
   "metadata": {},
   "outputs": [],
   "source": [
    "import pandas as pd\n",
    "import SimpleITK as sitk"
   ]
  },
  {
   "cell_type": "code",
   "execution_count": 17,
   "id": "9bc462ce",
   "metadata": {},
   "outputs": [
    {
     "name": "stdout",
     "output_type": "stream",
     "text": [
      "['0324_flair' '0324_t1ce' '0324_t2' '0325_flair' '0325_t1ce' '0325_t2'\n",
      " '0326_flair' '0326_t1ce' '0326_t2' '0327_flair']\n",
      "['./taop-2021/100003/0324/0324_Flair', './taop-2021/100003/0324/0324_CET1', './taop-2021/100003/0324/0324_T2', './taop-2021/100003/0325/0325_Flair', './taop-2021/100003/0325/0325_CET1', './taop-2021/100003/0325/0325_T2', './taop-2021/100003/0326/0326_Flair', './taop-2021/100003/0326/0326_CET1', './taop-2021/100003/0326/0326_T2', './taop-2021/100003/0327/0327_Flair'] [1, 1, 1, 1, 1, 1, 1, 1, 1, 1]\n"
     ]
    }
   ],
   "source": [
    "destfiles = './100003_nii_test/'\n",
    "csv_root = './taop-2021/100003/'\n",
    "csv_file = csv_root+'test1_data_info.csv'\n",
    "datas = pd.read_csv(csv_file, usecols=['id_series'])\n",
    "id_series = datas['id_series'].values\n",
    "print(id_series[:10])\n",
    "\n",
    "# 路径生成\n",
    "data_path, rep_num = modal_and_repnum(id_series)\n",
    "print(data_path[:10], rep_num[:10])"
   ]
  },
  {
   "cell_type": "code",
   "execution_count": 26,
   "id": "3c8bafee",
   "metadata": {},
   "outputs": [
    {
     "name": "stderr",
     "output_type": "stream",
     "text": [
      "process...: 100%|██████████| 300/300 [09:05<00:00,  1.82s/num, name of this process=./taop-2021/100003/0424/0424_T2]   "
     ]
    },
    {
     "name": "stdout",
     "output_type": "stream",
     "text": [
      "300 [(<SimpleITK.SimpleITK.Image; proxy of <Swig Object of type 'std::vector< itk::simple::Image >::value_type *' at 0x7efe49213810> >, './100003_nii_test/0324/0324_Flair.nii.gz'), (<SimpleITK.SimpleITK.Image; proxy of <Swig Object of type 'std::vector< itk::simple::Image >::value_type *' at 0x7efe49213ba0> >, './100003_nii_test/0324/0324_CET1.nii.gz'), (<SimpleITK.SimpleITK.Image; proxy of <Swig Object of type 'std::vector< itk::simple::Image >::value_type *' at 0x7efe4807a8d0> >, './100003_nii_test/0324/0324_T2.nii.gz'), (<SimpleITK.SimpleITK.Image; proxy of <Swig Object of type 'std::vector< itk::simple::Image >::value_type *' at 0x7efe4807a3f0> >, './100003_nii_test/0325/0325_Flair.nii.gz'), (<SimpleITK.SimpleITK.Image; proxy of <Swig Object of type 'std::vector< itk::simple::Image >::value_type *' at 0x7efe4807a990> >, './100003_nii_test/0325/0325_CET1.nii.gz'), (<SimpleITK.SimpleITK.Image; proxy of <Swig Object of type 'std::vector< itk::simple::Image >::value_type *' at 0x7efe4807a570> >, './100003_nii_test/0325/0325_T2.nii.gz'), (<SimpleITK.SimpleITK.Image; proxy of <Swig Object of type 'std::vector< itk::simple::Image >::value_type *' at 0x7efe4807a960> >, './100003_nii_test/0326/0326_Flair.nii.gz'), (<SimpleITK.SimpleITK.Image; proxy of <Swig Object of type 'std::vector< itk::simple::Image >::value_type *' at 0x7efe4807a5a0> >, './100003_nii_test/0326/0326_CET1.nii.gz'), (<SimpleITK.SimpleITK.Image; proxy of <Swig Object of type 'std::vector< itk::simple::Image >::value_type *' at 0x7efe4807a450> >, './100003_nii_test/0326/0326_T2.nii.gz'), (<SimpleITK.SimpleITK.Image; proxy of <Swig Object of type 'std::vector< itk::simple::Image >::value_type *' at 0x7efe4807a9f0> >, './100003_nii_test/0327/0327_Flair.nii.gz')]\n"
     ]
    },
    {
     "name": "stderr",
     "output_type": "stream",
     "text": [
      "\n"
     ]
    }
   ],
   "source": [
    "from tqdm import tqdm\n",
    "from pathlib import Path\n",
    "import os\n",
    "def generate3D(data_path, destpath):\n",
    "    \n",
    "    if not os.path.exists(destpath):\n",
    "        os.mkdir(destpath)\n",
    "    # 存储全部路径下的3D图像\n",
    "    all_3D = []\n",
    "    with tqdm(total=len(data_path), desc=f'process...', unit='num') as pbar:\n",
    "        for path in data_path:\n",
    "            \n",
    "            image3D, destfile = genprocess(path, destpath)\n",
    "            all_3D.append((image3D, destfile))   \n",
    "            # print(image3D.GetSize())\n",
    "            pbar.set_postfix(**{'name of this process': path})\n",
    "            pbar.update(1)\n",
    "#             break\n",
    "            \n",
    "    return all_3D\n",
    "\n",
    "\n",
    "# 3D图像生成\n",
    "all_3D = generate3D(data_path=data_path, destpath=destfiles)\n",
    "# 963\n",
    "print(len(all_3D), all_3D[:10]) # img.shape =>(223, 270, 20) (W, H, S)==(X, Y, Z)"
   ]
  },
  {
   "cell_type": "code",
   "execution_count": 46,
   "id": "323ffe39",
   "metadata": {},
   "outputs": [
    {
     "name": "stderr",
     "output_type": "stream",
     "text": [
      "processing...: 100%|██████████| 100/100 [00:00<00:00, 1371.91个/s, tips: processing=./100003_nii_test/0412/mask]\n"
     ]
    }
   ],
   "source": [
    "# 创建100个验证集的空mask文件夹，存放预测结果\n",
    "from glob import glob\n",
    "from tqdm import tqdm\n",
    "import os\n",
    "listpaths = glob(destfiles+'*')\n",
    "with tqdm(total=len(listpaths), desc='processing...', unit='个') as pbar:\n",
    "    for path in listpaths:\n",
    "        if os.path.exists(path+'/mask'):\n",
    "            continue\n",
    "        else:\n",
    "            os.mkdir(path+'/mask')\n",
    "        pbar.update(1)\n",
    "        pbar.set_postfix(**{'tips: processing': path+'/mask'})"
   ]
  },
  {
   "cell_type": "code",
   "execution_count": 47,
   "id": "4053665a",
   "metadata": {},
   "outputs": [],
   "source": [
    "redictstore(path=destfiles, key_prefix='data/bisai2')"
   ]
  },
  {
   "cell_type": "code",
   "execution_count": null,
   "id": "f7c3eca3",
   "metadata": {},
   "outputs": [],
   "source": []
  }
 ],
 "metadata": {
  "kernelspec": {
   "display_name": "conda_pytorch_py3",
   "language": "python",
   "name": "conda_pytorch_py3"
  },
  "language_info": {
   "codemirror_mode": {
    "name": "ipython",
    "version": 3
   },
   "file_extension": ".py",
   "mimetype": "text/x-python",
   "name": "python",
   "nbconvert_exporter": "python",
   "pygments_lexer": "ipython3",
   "version": "3.6.5"
  }
 },
 "nbformat": 4,
 "nbformat_minor": 5
}
